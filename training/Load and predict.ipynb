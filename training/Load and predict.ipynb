{
 "cells": [
  {
   "cell_type": "code",
   "execution_count": 25,
   "id": "213d3b25",
   "metadata": {},
   "outputs": [],
   "source": [
    "import tensorflow as tf\n",
    "from tensorflow import keras\n",
    "from PIL import Image\n",
    "import numpy as np"
   ]
  },
  {
   "cell_type": "code",
   "execution_count": 20,
   "id": "b25fb05a",
   "metadata": {},
   "outputs": [],
   "source": [
    "IMAGE_SIZE = 256\n",
    "BATCH_SIZE = 32\n",
    "CHANNELS = 3"
   ]
  },
  {
   "cell_type": "code",
   "execution_count": 3,
   "id": "cd789cad",
   "metadata": {},
   "outputs": [],
   "source": [
    "model = keras.models.load_model('../potatoes.h5')"
   ]
  },
  {
   "cell_type": "code",
   "execution_count": 17,
   "id": "cc8d5d07",
   "metadata": {},
   "outputs": [],
   "source": [
    "my_image = (\"img1.JPG\")"
   ]
  },
  {
   "cell_type": "code",
   "execution_count": 19,
   "id": "c3f15ec4",
   "metadata": {},
   "outputs": [],
   "source": [
    "Image.open(my_image)"
   ]
  },
  {
   "cell_type": "code",
   "execution_count": 11,
   "id": "29ea8b44",
   "metadata": {},
   "outputs": [
    {
     "data": {
      "text/plain": [
       "'E:\\x0cyp\\\\dataset\\\\Potato___Early_blight\\x00a8a68ee-f587-4dea-beec-79d02e7d3fa4___RS_Early.B 8461.JPG'"
      ]
     },
     "execution_count": 11,
     "metadata": {},
     "output_type": "execute_result"
    }
   ],
   "source": [
    "my_image"
   ]
  },
  {
   "cell_type": "code",
   "execution_count": 21,
   "id": "58eefb8e",
   "metadata": {},
   "outputs": [],
   "source": [
    "my_img = tf.keras.utils.load_img(my_image, target_size=(IMAGE_SIZE, IMAGE_SIZE))"
   ]
  },
  {
   "cell_type": "code",
   "execution_count": 22,
   "id": "5abc6c5c",
   "metadata": {},
   "outputs": [],
   "source": [
    "img_array = keras.utils.img_to_array(my_img)\n",
    "img_array = tf.expand_dims(img_array, 0)"
   ]
  },
  {
   "cell_type": "code",
   "execution_count": 26,
   "id": "698b6ba9",
   "metadata": {},
   "outputs": [
    {
     "data": {
      "text/plain": [
       "array([[9.9880099e-01, 1.1989533e-03, 5.9794536e-13]], dtype=float32)"
      ]
     },
     "execution_count": 26,
     "metadata": {},
     "output_type": "execute_result"
    }
   ],
   "source": [
    "predicted = model.predict(img_array)\n",
    "predicted"
   ]
  },
  {
   "cell_type": "code",
   "execution_count": 27,
   "id": "7e5c231a",
   "metadata": {},
   "outputs": [
    {
     "data": {
      "text/plain": [
       "0"
      ]
     },
     "execution_count": 27,
     "metadata": {},
     "output_type": "execute_result"
    }
   ],
   "source": [
    "predclass = np.argmax(predicted[0])\n",
    "predclass"
   ]
  },
  {
   "cell_type": "code",
   "execution_count": null,
   "id": "4617d65d",
   "metadata": {},
   "outputs": [],
   "source": []
  }
 ],
 "metadata": {
  "kernelspec": {
   "display_name": "Python 3 (ipykernel)",
   "language": "python",
   "name": "python3"
  },
  "language_info": {
   "codemirror_mode": {
    "name": "ipython",
    "version": 3
   },
   "file_extension": ".py",
   "mimetype": "text/x-python",
   "name": "python",
   "nbconvert_exporter": "python",
   "pygments_lexer": "ipython3",
   "version": "3.9.5"
  }
 },
 "nbformat": 4,
 "nbformat_minor": 5
}
